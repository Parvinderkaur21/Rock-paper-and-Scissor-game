{
  "nbformat": 4,
  "nbformat_minor": 0,
  "metadata": {
    "colab": {
      "name": "rock,paper,scissor.ipynb",
      "provenance": []
    },
    "kernelspec": {
      "name": "python3",
      "display_name": "Python 3"
    },
    "language_info": {
      "name": "python"
    }
  },
  "cells": [
    {
      "cell_type": "code",
      "execution_count": 1,
      "metadata": {
        "colab": {
          "base_uri": "https://localhost:8080/"
        },
        "id": "N21oOcx9lahw",
        "outputId": "b873e6c6-4b14-49d4-f453-9cb7d8455aee"
      },
      "outputs": [
        {
          "output_type": "stream",
          "name": "stdout",
          "text": [
            "Welcome to Rock , paper and scissor game\n",
            "There will be total 5 rounds in game\n",
            "Round 1\n",
            "Please type one of the following \n",
            "1-rock \n",
            "2-paper \n",
            "3-scissor \n",
            "rock\n",
            "you choosed rock\n",
            "computer choosed rock\n",
            "it got tie \n",
            "Round 2\n",
            "Please type one of the following \n",
            "1-rock \n",
            "2-paper \n",
            "3-scissor \n",
            "paper\n",
            "you choosed paper\n",
            "computer choosed paper\n",
            "it got tie \n",
            "Round 3\n",
            "Please type one of the following \n",
            "1-rock \n",
            "2-paper \n",
            "3-scissor \n",
            "paper\n",
            "you choosed paper\n",
            "computer choosed scissor\n",
            "computer wins\n",
            "Round 4\n",
            "Please type one of the following \n",
            "1-rock \n",
            "2-paper \n",
            "3-scissor \n",
            "paper\n",
            "you choosed paper\n",
            "computer choosed scissor\n",
            "computer wins\n",
            "Round 5\n",
            "Please type one of the following \n",
            "1-rock \n",
            "2-paper \n",
            "3-scissor \n",
            "scissor\n",
            "you choosed scissor\n",
            "computer choosed scissor\n",
            "it got tie \n",
            "your score:  3\n",
            "computer score:  5\n",
            "you lose the game , better luck next time\n",
            "Thank you for playing\n"
          ]
        }
      ],
      "source": [
        "#Rock paper Scissor game\n",
        "import random \n",
        "choices = [\"rock\",\"paper\",\"scissor\"]\n",
        "comp_score  = 0\n",
        "my_score = 0\n",
        "print(\"Welcome to Rock , paper and scissor game\")\n",
        "print(\"There will be total 5 rounds in game\")\n",
        "\n",
        "for i in range(1,6):\n",
        "                print(\"Round\",i)\n",
        "                user_choice = input(\"Please type one of the following \\n1-rock \\n2-paper \\n3-scissor \\n\")\n",
        "                print(\"you choosed {0}\".format(user_choice))\n",
        "                a = random.choice(choices)\n",
        "                print(\"computer choosed {0}\".format(a))\n",
        "                if a == user_choice:\n",
        "                    print(\"it got tie \")\n",
        "                    my_score += 1\n",
        "                    comp_score +=1\n",
        "                elif (a == \"rock\" and user_choice == \"scissor\") or (a == \"paper\" and user_choice == \"rock\") or (a == \"scissor\" and user_choice ==\"paper\"):\n",
        "                    print(\"computer wins\")\n",
        "                    comp_score += 1\n",
        "                else:\n",
        "                    print(\"you win\")\n",
        "                    my_score += 1 \n",
        "print(\"your score: \", my_score)\n",
        "print(\"computer score: \",comp_score)\n",
        "\n",
        "if my_score>comp_score:\n",
        "    print(\"Congratulations , you win the game\")\n",
        "elif my_score == comp_score:\n",
        "    print(\"Oopss , the game is tie\")\n",
        "else:\n",
        "    print(\"you lose the game , better luck next time\")\n",
        "print(\"Thank you for playing\")"
      ]
    },
    {
      "cell_type": "code",
      "source": [
        ""
      ],
      "metadata": {
        "id": "HRj521LglgCD"
      },
      "execution_count": null,
      "outputs": []
    }
  ]
}